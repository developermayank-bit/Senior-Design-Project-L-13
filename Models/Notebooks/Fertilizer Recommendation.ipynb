{
 "cells": [
  {
   "cell_type": "code",
   "execution_count": 1,
   "id": "77725440",
   "metadata": {},
   "outputs": [],
   "source": [
    "import numpy as np\n",
    "import pandas as pd\n",
    "import matplotlib.pyplot as plt\n",
    "import seaborn as sns\n",
    "import warnings\n",
    "warnings.filterwarnings('ignore')"
   ]
  },
  {
   "cell_type": "code",
   "execution_count": 2,
   "id": "1d3de566",
   "metadata": {},
   "outputs": [
    {
     "data": {
      "text/html": [
       "<div>\n",
       "<style scoped>\n",
       "    .dataframe tbody tr th:only-of-type {\n",
       "        vertical-align: middle;\n",
       "    }\n",
       "\n",
       "    .dataframe tbody tr th {\n",
       "        vertical-align: top;\n",
       "    }\n",
       "\n",
       "    .dataframe thead th {\n",
       "        text-align: right;\n",
       "    }\n",
       "</style>\n",
       "<table border=\"1\" class=\"dataframe\">\n",
       "  <thead>\n",
       "    <tr style=\"text-align: right;\">\n",
       "      <th></th>\n",
       "      <th>Serial</th>\n",
       "      <th>Crop</th>\n",
       "      <th>N</th>\n",
       "      <th>P</th>\n",
       "      <th>K</th>\n",
       "      <th>pH</th>\n",
       "    </tr>\n",
       "  </thead>\n",
       "  <tbody>\n",
       "    <tr>\n",
       "      <th>0</th>\n",
       "      <td>0</td>\n",
       "      <td>Rice</td>\n",
       "      <td>80</td>\n",
       "      <td>40</td>\n",
       "      <td>40</td>\n",
       "      <td>5.5</td>\n",
       "    </tr>\n",
       "    <tr>\n",
       "      <th>1</th>\n",
       "      <td>1</td>\n",
       "      <td>Jowar(Sorghum)</td>\n",
       "      <td>80</td>\n",
       "      <td>40</td>\n",
       "      <td>40</td>\n",
       "      <td>5.5</td>\n",
       "    </tr>\n",
       "    <tr>\n",
       "      <th>2</th>\n",
       "      <td>2</td>\n",
       "      <td>Barley(JAV)</td>\n",
       "      <td>70</td>\n",
       "      <td>40</td>\n",
       "      <td>45</td>\n",
       "      <td>5.5</td>\n",
       "    </tr>\n",
       "    <tr>\n",
       "      <th>3</th>\n",
       "      <td>3</td>\n",
       "      <td>Maize</td>\n",
       "      <td>80</td>\n",
       "      <td>40</td>\n",
       "      <td>20</td>\n",
       "      <td>5.5</td>\n",
       "    </tr>\n",
       "    <tr>\n",
       "      <th>4</th>\n",
       "      <td>4</td>\n",
       "      <td>Ragi( naachnnii)</td>\n",
       "      <td>50</td>\n",
       "      <td>40</td>\n",
       "      <td>20</td>\n",
       "      <td>5.5</td>\n",
       "    </tr>\n",
       "  </tbody>\n",
       "</table>\n",
       "</div>"
      ],
      "text/plain": [
       "   Serial              Crop   N   P   K   pH\n",
       "0       0              Rice  80  40  40  5.5\n",
       "1       1    Jowar(Sorghum)  80  40  40  5.5\n",
       "2       2       Barley(JAV)  70  40  45  5.5\n",
       "3       3             Maize  80  40  20  5.5\n",
       "4       4  Ragi( naachnnii)  50  40  20  5.5"
      ]
     },
     "execution_count": 2,
     "metadata": {},
     "output_type": "execute_result"
    }
   ],
   "source": [
    "df = pd.read_csv(\"../Dataset/Fertilizer.csv\")\n",
    "df.head()"
   ]
  },
  {
   "cell_type": "code",
   "execution_count": 3,
   "id": "87a90f7f",
   "metadata": {},
   "outputs": [
    {
     "data": {
      "text/plain": [
       "(1843, 6)"
      ]
     },
     "execution_count": 3,
     "metadata": {},
     "output_type": "execute_result"
    }
   ],
   "source": [
    "df.shape"
   ]
  },
  {
   "cell_type": "code",
   "execution_count": 4,
   "id": "2e96070a",
   "metadata": {},
   "outputs": [
    {
     "data": {
      "text/plain": [
       "Index(['Serial', 'Crop', 'N', 'P', 'K', 'pH'], dtype='object')"
      ]
     },
     "execution_count": 4,
     "metadata": {},
     "output_type": "execute_result"
    }
   ],
   "source": [
    "df.columns"
   ]
  },
  {
   "cell_type": "code",
   "execution_count": 5,
   "id": "73e63141",
   "metadata": {},
   "outputs": [],
   "source": [
    "df['Crop'] = df['Crop'].replace('Water Melon','Watermelon')\n",
    "df['Crop'] = df['Crop'].replace('Kidney beans','Kidneybeans')\n",
    "df['Crop'] = df['Crop'].replace('pigeon peas(Toor Dal)','Pigeonpeas')\n",
    "df['Crop'] = df['Crop'].replace('Chickpeas(Channa)','Chickpea')\n",
    "df['Crop'] = df['Crop'].replace('Moth bean(Matki)','Mothbeans')\n",
    "df['Crop'] = df['Crop'].replace('Mung beans','Mungbeans')\n",
    "df['Crop'] = df['Crop'].replace('Lentils(Masoor Dal)','Lentils')\n",
    "df['Crop'] = df['Crop'].replace('Musk Melon','Muskmelon')\n",
    "df['Crop'] = df['Crop'].replace('Black Gram','Blackgram')"
   ]
  },
  {
   "cell_type": "code",
   "execution_count": 6,
   "id": "8310ac87",
   "metadata": {},
   "outputs": [],
   "source": [
    "df=df[df['Crop'].isin(['Rice', 'Maize', 'Chickpea', 'Kidneybeans', 'Pigeonpeas',\n",
    "       'Mothbeans', 'Mungbeans', 'Blackgram', 'Lentils', 'Pomegranate',\n",
    "       'Banana', 'Mango', 'Grapes', 'Watermelon', 'Muskmelon', 'Apple',\n",
    "       'Orange', 'Papaya', 'Coconut', 'Cotton', 'Jute', 'Coffee'])]"
   ]
  },
  {
   "cell_type": "code",
   "execution_count": 7,
   "id": "c884af22",
   "metadata": {},
   "outputs": [
    {
     "data": {
      "text/plain": [
       "Rice           19\n",
       "Maize          19\n",
       "Jute           19\n",
       "Cotton         19\n",
       "Coconut        19\n",
       "Papaya         19\n",
       "Orange         19\n",
       "Apple          19\n",
       "Muskmelon      19\n",
       "Watermelon     19\n",
       "Grapes         19\n",
       "Mango          19\n",
       "Banana         19\n",
       "Pomegranate    19\n",
       "Lentils        19\n",
       "Blackgram      19\n",
       "Mungbeans      19\n",
       "Mothbeans      19\n",
       "Pigeonpeas     19\n",
       "Kidneybeans    19\n",
       "Chickpea       19\n",
       "Coffee         19\n",
       "Name: Crop, dtype: int64"
      ]
     },
     "execution_count": 7,
     "metadata": {},
     "output_type": "execute_result"
    }
   ],
   "source": [
    "df['Crop'].value_counts()"
   ]
  },
  {
   "cell_type": "code",
   "execution_count": 8,
   "id": "8aa6c3cd",
   "metadata": {},
   "outputs": [
    {
     "data": {
      "text/html": [
       "<div>\n",
       "<style scoped>\n",
       "    .dataframe tbody tr th:only-of-type {\n",
       "        vertical-align: middle;\n",
       "    }\n",
       "\n",
       "    .dataframe tbody tr th {\n",
       "        vertical-align: top;\n",
       "    }\n",
       "\n",
       "    .dataframe thead th {\n",
       "        text-align: right;\n",
       "    }\n",
       "</style>\n",
       "<table border=\"1\" class=\"dataframe\">\n",
       "  <thead>\n",
       "    <tr style=\"text-align: right;\">\n",
       "      <th></th>\n",
       "      <th>Crop</th>\n",
       "      <th>N</th>\n",
       "      <th>P</th>\n",
       "      <th>K</th>\n",
       "      <th>pH</th>\n",
       "    </tr>\n",
       "  </thead>\n",
       "  <tbody>\n",
       "    <tr>\n",
       "      <th>0</th>\n",
       "      <td>Rice</td>\n",
       "      <td>80</td>\n",
       "      <td>40</td>\n",
       "      <td>40</td>\n",
       "      <td>5.50</td>\n",
       "    </tr>\n",
       "    <tr>\n",
       "      <th>3</th>\n",
       "      <td>Maize</td>\n",
       "      <td>80</td>\n",
       "      <td>40</td>\n",
       "      <td>20</td>\n",
       "      <td>5.50</td>\n",
       "    </tr>\n",
       "    <tr>\n",
       "      <th>5</th>\n",
       "      <td>Chickpea</td>\n",
       "      <td>40</td>\n",
       "      <td>60</td>\n",
       "      <td>80</td>\n",
       "      <td>5.50</td>\n",
       "    </tr>\n",
       "    <tr>\n",
       "      <th>12</th>\n",
       "      <td>Kidneybeans</td>\n",
       "      <td>20</td>\n",
       "      <td>60</td>\n",
       "      <td>20</td>\n",
       "      <td>5.50</td>\n",
       "    </tr>\n",
       "    <tr>\n",
       "      <th>13</th>\n",
       "      <td>Pigeonpeas</td>\n",
       "      <td>20</td>\n",
       "      <td>60</td>\n",
       "      <td>20</td>\n",
       "      <td>5.50</td>\n",
       "    </tr>\n",
       "    <tr>\n",
       "      <th>...</th>\n",
       "      <td>...</td>\n",
       "      <td>...</td>\n",
       "      <td>...</td>\n",
       "      <td>...</td>\n",
       "      <td>...</td>\n",
       "    </tr>\n",
       "    <tr>\n",
       "      <th>1821</th>\n",
       "      <td>Papaya</td>\n",
       "      <td>50</td>\n",
       "      <td>50</td>\n",
       "      <td>50</td>\n",
       "      <td>5.82</td>\n",
       "    </tr>\n",
       "    <tr>\n",
       "      <th>1834</th>\n",
       "      <td>Coconut</td>\n",
       "      <td>20</td>\n",
       "      <td>10</td>\n",
       "      <td>30</td>\n",
       "      <td>4.82</td>\n",
       "    </tr>\n",
       "    <tr>\n",
       "      <th>1839</th>\n",
       "      <td>Cotton</td>\n",
       "      <td>120</td>\n",
       "      <td>40</td>\n",
       "      <td>20</td>\n",
       "      <td>5.32</td>\n",
       "    </tr>\n",
       "    <tr>\n",
       "      <th>1840</th>\n",
       "      <td>Jute</td>\n",
       "      <td>80</td>\n",
       "      <td>40</td>\n",
       "      <td>40</td>\n",
       "      <td>5.32</td>\n",
       "    </tr>\n",
       "    <tr>\n",
       "      <th>1841</th>\n",
       "      <td>Coffee</td>\n",
       "      <td>100</td>\n",
       "      <td>20</td>\n",
       "      <td>30</td>\n",
       "      <td>5.32</td>\n",
       "    </tr>\n",
       "  </tbody>\n",
       "</table>\n",
       "<p>418 rows × 5 columns</p>\n",
       "</div>"
      ],
      "text/plain": [
       "             Crop    N   P   K    pH\n",
       "0            Rice   80  40  40  5.50\n",
       "3           Maize   80  40  20  5.50\n",
       "5        Chickpea   40  60  80  5.50\n",
       "12    Kidneybeans   20  60  20  5.50\n",
       "13     Pigeonpeas   20  60  20  5.50\n",
       "...           ...  ...  ..  ..   ...\n",
       "1821       Papaya   50  50  50  5.82\n",
       "1834      Coconut   20  10  30  4.82\n",
       "1839       Cotton  120  40  20  5.32\n",
       "1840         Jute   80  40  40  5.32\n",
       "1841       Coffee  100  20  30  5.32\n",
       "\n",
       "[418 rows x 5 columns]"
      ]
     },
     "execution_count": 8,
     "metadata": {},
     "output_type": "execute_result"
    }
   ],
   "source": [
    "df.drop(columns='Serial')"
   ]
  },
  {
   "cell_type": "code",
   "execution_count": 9,
   "id": "586fee5e",
   "metadata": {},
   "outputs": [
    {
     "data": {
      "image/png": "[encoded data removed]",
      "text/plain": [
       "<Figure size 640x480 with 2 Axes>"
      ]
     },
     "metadata": {},
     "output_type": "display_data"
    }
   ],
   "source": [
    "sns.heatmap(df.isnull(),cmap=\"RdBu\")\n",
    "plt.show()"
   ]
  },
  {
   "cell_type": "code",
   "execution_count": 10,
   "id": "b74898fb",
   "metadata": {},
   "outputs": [],
   "source": [
    "crop=['Rice', 'Maize', 'Chickpea', 'Kidneybeans', 'Pigeonpeas',\n",
    "       'Mothbeans', 'Mungbeans', 'Blackgram', 'Lentils', 'Pomegranate',\n",
    "       'Banana', 'Mango', 'Grapes', 'Watermelon', 'Muskmelon', 'Apple',\n",
    "       'Orange', 'Papaya', 'Coconut', 'Cotton', 'Jute', 'Coffee']\n",
    "lstss=dict()\n",
    "for i in crop:\n",
    "    df1=df[df['Crop']==i]\n",
    "    dicts=dict()\n",
    "    dicts['N'] = df1['N'].mean()\n",
    "    dicts['K'] = df1['K'].mean()\n",
    "    dicts['P'] = df1['P'].mean()\n",
    "    dicts['pH'] = df1['pH'].mean()\n",
    "    lstss[i]=dicts"
   ]
  },
  {
   "cell_type": "code",
   "execution_count": 11,
   "id": "0192b5ab",
   "metadata": {},
   "outputs": [
    {
     "data": {
      "text/plain": [
       "{'Rice': {'N': 80.0, 'K': 40.0, 'P': 40.0, 'pH': 5.5},\n",
       " 'Maize': {'N': 80.0, 'K': 20.0, 'P': 40.0, 'pH': 5.5},\n",
       " 'Chickpea': {'N': 40.0, 'K': 80.0, 'P': 60.0, 'pH': 5.5},\n",
       " 'Kidneybeans': {'N': 20.0, 'K': 20.0, 'P': 60.0, 'pH': 5.5},\n",
       " 'Pigeonpeas': {'N': 20.0, 'K': 20.0, 'P': 60.0, 'pH': 5.5},\n",
       " 'Mothbeans': {'N': 20.0, 'K': 20.0, 'P': 40.0, 'pH': 5.5},\n",
       " 'Mungbeans': {'N': 20.0, 'K': 20.0, 'P': 40.0, 'pH': 5.5},\n",
       " 'Blackgram': {'N': 40.0, 'K': 20.0, 'P': 60.0, 'pH': 5.0},\n",
       " 'Lentils': {'N': 20.0, 'K': 20.0, 'P': 60.0, 'pH': 5.5},\n",
       " 'Pomegranate': {'N': 20.0, 'K': 40.0, 'P': 10.0, 'pH': 5.5},\n",
       " 'Banana': {'N': 100.0, 'K': 50.0, 'P': 75.0, 'pH': 6.5},\n",
       " 'Mango': {'N': 20.0, 'K': 30.0, 'P': 20.0, 'pH': 5.0},\n",
       " 'Grapes': {'N': 20.0, 'K': 200.0, 'P': 125.0, 'pH': 3.999999999999999},\n",
       " 'Watermelon': {'N': 100.0, 'K': 50.0, 'P': 10.0, 'pH': 5.5},\n",
       " 'Muskmelon': {'N': 100.0, 'K': 50.0, 'P': 10.0, 'pH': 5.5},\n",
       " 'Apple': {'N': 20.0, 'K': 200.0, 'P': 125.0, 'pH': 6.5},\n",
       " 'Orange': {'N': 20.0, 'K': 10.0, 'P': 10.0, 'pH': 3.999999999999999},\n",
       " 'Papaya': {'N': 50.0, 'K': 50.0, 'P': 50.0, 'pH': 6.0},\n",
       " 'Coconut': {'N': 20.0, 'K': 30.0, 'P': 10.0, 'pH': 5.0},\n",
       " 'Cotton': {'N': 120.0, 'K': 20.0, 'P': 40.0, 'pH': 5.5},\n",
       " 'Jute': {'N': 80.0, 'K': 40.0, 'P': 40.0, 'pH': 5.5},\n",
       " 'Coffee': {'N': 100.0, 'K': 30.0, 'P': 20.0, 'pH': 5.5}}"
      ]
     },
     "execution_count": 11,
     "metadata": {},
     "output_type": "execute_result"
    }
   ],
   "source": [
    "lstss"
   ]
  },
  {
   "cell_type": "code",
   "execution_count": null,
   "id": "cfff1b9a",
   "metadata": {},
   "outputs": [],
   "source": []
  }
 ],
 "metadata": {
  "kernelspec": {
   "display_name": "Python 3 (ipykernel)",
   "language": "python",
   "name": "python3"
  },
  "language_info": {
   "codemirror_mode": {
    "name": "ipython",
    "version": 3
   },
   "file_extension": ".py",
   "mimetype": "text/x-python",
   "name": "python",
   "nbconvert_exporter": "python",
   "pygments_lexer": "ipython3",
   "version": "3.10.10"
  }
 },
 "nbformat": 4,
 "nbformat_minor": 5
}
